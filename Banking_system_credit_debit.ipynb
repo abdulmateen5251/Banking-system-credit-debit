{
  "nbformat": 4,
  "nbformat_minor": 0,
  "metadata": {
    "colab": {
      "provenance": [],
      "authorship_tag": "ABX9TyNuZzzBLT8BJ3DFlSKBUrMO",
      "include_colab_link": true
    },
    "kernelspec": {
      "name": "python3",
      "display_name": "Python 3"
    },
    "language_info": {
      "name": "python"
    }
  },
  "cells": [
    {
      "cell_type": "markdown",
      "metadata": {
        "id": "view-in-github",
        "colab_type": "text"
      },
      "source": [
        "<a href=\"https://colab.research.google.com/github/abdulmateen5251/Banking-system-credit-debit/blob/main/Banking_system_credit_debit.ipynb\" target=\"_parent\"><img src=\"https://colab.research.google.com/assets/colab-badge.svg\" alt=\"Open In Colab\"/></a>"
      ]
    },
    {
      "cell_type": "code",
      "execution_count": 18,
      "metadata": {
        "colab": {
          "base_uri": "https://localhost:8080/"
        },
        "id": "eOuFuePuyu4q",
        "outputId": "1477e3c1-1fe6-479d-b717-1537eb5b562e"
      },
      "outputs": [
        {
          "output_type": "stream",
          "name": "stdout",
          "text": [
            "Rs 1000 was debit\n",
            "total balance 9000\n",
            "Rs 2000 was credit\n",
            "total balance 11000\n"
          ]
        }
      ],
      "source": [
        "class Account:\n",
        "\n",
        "  def __init__(self, bal ,acc):\n",
        "   self.balance = bal\n",
        "   self.account = acc\n",
        "\n",
        "  def get_balance(self):\n",
        "    return self.balance\n",
        "\n",
        "  #debit method\n",
        "  def debit(self, amount):\n",
        "   self.balance -= amount\n",
        "   print(\"Rs\",amount, \"was debit\")\n",
        "   print(\"total balance\", self.get_balance())\n",
        "\n",
        "  #credit method\n",
        "  def credit(self, amount):\n",
        "   self.balance += amount\n",
        "   print(\"Rs\",amount, \"was credit\")\n",
        "   print(\"total balance\", self.get_balance())\n",
        "\n",
        "\n",
        "\n",
        "\n",
        "acc1 = Account(10000,12345)\n",
        "acc1.debit(1000)\n",
        "acc1.credit(2000)\n",
        "\n",
        "\n",
        "\n"
      ]
    },
    {
      "cell_type": "code",
      "source": [
        ""
      ],
      "metadata": {
        "id": "zHOgCYf75sC2"
      },
      "execution_count": null,
      "outputs": []
    }
  ]
}